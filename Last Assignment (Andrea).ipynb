{
 "cells": [
  {
   "cell_type": "markdown",
   "id": "36d9e327-dd74-465d-ac89-930dd89c10c1",
   "metadata": {},
   "source": [
    "# Last Assignment (Andrea)"
   ]
  },
  {
   "cell_type": "markdown",
   "id": "cb36b5c1-e0a8-4007-9988-3664234b73fc",
   "metadata": {},
   "source": [
    "## Introduction\n",
    "This is my final assignment of this course"
   ]
  },
  {
   "cell_type": "markdown",
   "id": "fdde7865-808a-4d35-bf4a-29413dd82dc3",
   "metadata": {},
   "source": [
    "## Data science languages \n",
    "* Python\n",
    "* R\n",
    "* Julia\n",
    "* Scala"
   ]
  },
  {
   "cell_type": "markdown",
   "id": "9b424b53-c7d0-4276-9757-055703cef56d",
   "metadata": {},
   "source": [
    "## Data science libraries\n",
    "* Pandas\n",
    "* NumPy\n",
    "* Matplotlib\n",
    "* TensorFlow\n",
    "* Plotly"
   ]
  },
  {
   "cell_type": "markdown",
   "id": "4f26dec2-a6c2-4781-8b85-172531c580fa",
   "metadata": {},
   "source": [
    "## Arithmetic expression example\n",
    "`3+3`\n",
    "<br> Result\n",
    "<br>`6`"
   ]
  },
  {
   "cell_type": "code",
   "execution_count": 14,
   "id": "ea165a5d-f90d-4616-b704-2d45ab334ce4",
   "metadata": {},
   "outputs": [
    {
     "data": {
      "text/plain": [
       "18"
      ]
     },
     "execution_count": 14,
     "metadata": {},
     "output_type": "execute_result"
    }
   ],
   "source": [
    "6*3"
   ]
  },
  {
   "cell_type": "code",
   "execution_count": 28,
   "id": "e619ba29-1f33-4ca8-af14-9b476dc80159",
   "metadata": {},
   "outputs": [
    {
     "name": "stdout",
     "output_type": "stream",
     "text": [
      "4.933333333333334\n"
     ]
    }
   ],
   "source": [
    "minutes = 296\n",
    "hours = minutes / 60\n",
    "print(hours)"
   ]
  },
  {
   "cell_type": "markdown",
   "id": "ea1f7541-5558-425c-a1a9-03a61679f07a",
   "metadata": {},
   "source": [
    "## Objectives\n",
    "1. Learn Python\n",
    "2. Learn R\n",
    "3. Improve Java"
   ]
  },
  {
   "cell_type": "markdown",
   "id": "db04511a-8e61-4cd5-ac16-4ff8e7b00bb8",
   "metadata": {},
   "source": [
    "<i> Author: Andrea </i>"
   ]
  }
 ],
 "metadata": {
  "kernelspec": {
   "display_name": "Python 3 (ipykernel)",
   "language": "python",
   "name": "python3"
  },
  "language_info": {
   "codemirror_mode": {
    "name": "ipython",
    "version": 3
   },
   "file_extension": ".py",
   "mimetype": "text/x-python",
   "name": "python",
   "nbconvert_exporter": "python",
   "pygments_lexer": "ipython3",
   "version": "3.12.4"
  }
 },
 "nbformat": 4,
 "nbformat_minor": 5
}
